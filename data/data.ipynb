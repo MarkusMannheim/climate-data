{
 "cells": [
  {
   "cell_type": "code",
   "execution_count": 12,
   "metadata": {},
   "outputs": [
    {
     "data": {
      "text/html": [
       "<div>\n",
       "<style scoped>\n",
       "    .dataframe tbody tr th:only-of-type {\n",
       "        vertical-align: middle;\n",
       "    }\n",
       "\n",
       "    .dataframe tbody tr th {\n",
       "        vertical-align: top;\n",
       "    }\n",
       "\n",
       "    .dataframe thead th {\n",
       "        text-align: right;\n",
       "    }\n",
       "</style>\n",
       "<table border=\"1\" class=\"dataframe\">\n",
       "  <thead>\n",
       "    <tr style=\"text-align: right;\">\n",
       "      <th></th>\n",
       "      <th>1979       1      1979.042        336.56          0.11        335.92          0.09</th>\n",
       "    </tr>\n",
       "  </thead>\n",
       "  <tbody>\n",
       "    <tr>\n",
       "      <th>0</th>\n",
       "      <td>1979       2      1979.125        337.29    ...</td>\n",
       "    </tr>\n",
       "    <tr>\n",
       "      <th>1</th>\n",
       "      <td>1979       3      1979.208        337.88    ...</td>\n",
       "    </tr>\n",
       "    <tr>\n",
       "      <th>2</th>\n",
       "      <td>1979       4      1979.292        338.32    ...</td>\n",
       "    </tr>\n",
       "    <tr>\n",
       "      <th>3</th>\n",
       "      <td>1979       5      1979.375        338.26    ...</td>\n",
       "    </tr>\n",
       "    <tr>\n",
       "      <th>4</th>\n",
       "      <td>1979       6      1979.458        337.38    ...</td>\n",
       "    </tr>\n",
       "    <tr>\n",
       "      <th>...</th>\n",
       "      <td>...</td>\n",
       "    </tr>\n",
       "    <tr>\n",
       "      <th>530</th>\n",
       "      <td>2023       4      2023.292        420.55    ...</td>\n",
       "    </tr>\n",
       "    <tr>\n",
       "      <th>531</th>\n",
       "      <td>2023       5      2023.375        420.55    ...</td>\n",
       "    </tr>\n",
       "    <tr>\n",
       "      <th>532</th>\n",
       "      <td>2023       6      2023.458        419.53    ...</td>\n",
       "    </tr>\n",
       "    <tr>\n",
       "      <th>533</th>\n",
       "      <td>2023       7      2023.542        417.83    ...</td>\n",
       "    </tr>\n",
       "    <tr>\n",
       "      <th>534</th>\n",
       "      <td>2023       8      2023.625        416.59    ...</td>\n",
       "    </tr>\n",
       "  </tbody>\n",
       "</table>\n",
       "<p>535 rows × 1 columns</p>\n",
       "</div>"
      ],
      "text/plain": [
       "      1979       1      1979.042        336.56          0.11        335.92          0.09\n",
       "0      1979       2      1979.125        337.29    ...                                  \n",
       "1      1979       3      1979.208        337.88    ...                                  \n",
       "2      1979       4      1979.292        338.32    ...                                  \n",
       "3      1979       5      1979.375        338.26    ...                                  \n",
       "4      1979       6      1979.458        337.38    ...                                  \n",
       "..                                                 ...                                  \n",
       "530    2023       4      2023.292        420.55    ...                                  \n",
       "531    2023       5      2023.375        420.55    ...                                  \n",
       "532    2023       6      2023.458        419.53    ...                                  \n",
       "533    2023       7      2023.542        417.83    ...                                  \n",
       "534    2023       8      2023.625        416.59    ...                                  \n",
       "\n",
       "[535 rows x 1 columns]"
      ]
     },
     "execution_count": 12,
     "metadata": {},
     "output_type": "execute_result"
    }
   ],
   "source": [
    "import pandas as pd\n",
    "import numpy as np\n",
    "\n",
    "pd.read_csv(\n",
    "    \"https://gml.noaa.gov/webdata/ccgg/trends/co2/co2_mm_gl.txt\",\n",
    "    sep=\"\\t\",\n",
    "    comment=\"#\"\n",
    "    # names=[\"year\", \"month\", \"decimal\", \"average\", \"average_unc\", \"trend\", \"trend_unc\"]\n",
    ")\n",
    "\n"
   ]
  },
  {
   "cell_type": "code",
   "execution_count": null,
   "metadata": {},
   "outputs": [],
   "source": []
  }
 ],
 "metadata": {
  "kernelspec": {
   "display_name": "Python 3",
   "language": "python",
   "name": "python3"
  },
  "language_info": {
   "codemirror_mode": {
    "name": "ipython",
    "version": 3
   },
   "file_extension": ".py",
   "mimetype": "text/x-python",
   "name": "python",
   "nbconvert_exporter": "python",
   "pygments_lexer": "ipython3",
   "version": "3.11.4"
  }
 },
 "nbformat": 4,
 "nbformat_minor": 2
}
